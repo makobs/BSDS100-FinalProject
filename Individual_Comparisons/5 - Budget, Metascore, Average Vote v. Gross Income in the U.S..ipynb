{
 "cells": [
  {
   "cell_type": "markdown",
   "id": "signal-elephant",
   "metadata": {},
   "source": [
    "## Budget, Metascore, Average Vote vs. Gross Income in the U.S.\n",
    "#### Hypothesis:\n",
    "Budget, metascore, and avg vote together will be good predictors of gross income produced in the U.S.  \n",
    "The binary classification model will be more effective than the linear regression model."
   ]
  },
  {
   "cell_type": "code",
   "execution_count": 32,
   "id": "british-render",
   "metadata": {},
   "outputs": [
    {
     "data": {
      "text/html": [
       "<style>\n",
       ".list-inline {list-style: none; margin:0; padding: 0}\n",
       ".list-inline>li {display: inline-block}\n",
       ".list-inline>li:not(:last-child)::after {content: \"\\00b7\"; padding: 0 .5ex}\n",
       "</style>\n",
       "<ol class=list-inline><li>-0.0792883279666031</li><li>1.37512223287406</li><li>0.229364031666056</li><li>-0.559343325319774</li></ol>\n"
      ],
      "text/latex": [
       "\\begin{enumerate*}\n",
       "\\item -0.0792883279666031\n",
       "\\item 1.37512223287406\n",
       "\\item 0.229364031666056\n",
       "\\item -0.559343325319774\n",
       "\\end{enumerate*}\n"
      ],
      "text/markdown": [
       "1. -0.0792883279666031\n",
       "2. 1.37512223287406\n",
       "3. 0.229364031666056\n",
       "4. -0.559343325319774\n",
       "\n",
       "\n"
      ],
      "text/plain": [
       "[1] -0.07928833  1.37512223  0.22936403 -0.55934333"
      ]
     },
     "metadata": {},
     "output_type": "display_data"
    }
   ],
   "source": [
    "RMSE_mult <- function(a, data) {\n",
    "    preds <- a[1] + data$x1 * a[2] + data$x2 * a[3] + data$x3 *a[4]\n",
    "    diffs <- data$y - preds\n",
    "    sqrt(mean(diffs^2))\n",
    "}\n",
    "\n",
    "best_lin <- optim(c(0, 0, 0, 0), RMSE_mult,  data = mutate(train1, x1 = budget, x2 = metascore, x3 = avg_vote, y = usa_gross_income))\n",
    "best_lin$par"
   ]
  },
  {
   "cell_type": "code",
   "execution_count": 33,
   "id": "center-digit",
   "metadata": {},
   "outputs": [
    {
     "data": {
      "text/html": [
       "52518053.4226557"
      ],
      "text/latex": [
       "52518053.4226557"
      ],
      "text/markdown": [
       "52518053.4226557"
      ],
      "text/plain": [
       "[1] 52518053"
      ]
     },
     "metadata": {},
     "output_type": "display_data"
    },
    {
     "data": {
      "text/html": [
       "64529269.6421779"
      ],
      "text/latex": [
       "64529269.6421779"
      ],
      "text/markdown": [
       "64529269.6421779"
      ],
      "text/plain": [
       "[1] 64529270"
      ]
     },
     "metadata": {},
     "output_type": "display_data"
    }
   ],
   "source": [
    "# again line still overfitted to training set\n",
    "RMSE_mult(best_lin$par, data = mutate(valid1, x1 = budget, x2 = metascore, x3 = avg_vote, y = usa_gross_income))\n",
    "\n",
    "RMSE_mult(best_lin$par, data = mutate(test1, x1 = budget, x2 = metascore, x3 = avg_vote, y = usa_gross_income))"
   ]
  },
  {
   "cell_type": "code",
   "execution_count": 34,
   "id": "worldwide-broadway",
   "metadata": {},
   "outputs": [],
   "source": [
    "# next up is a binary classification model\n",
    "# create a binary TRUE/FALSE column\n",
    "train2 <- train1 %>%\n",
    "    mutate(usa_gross_income_above_50mil = usa_gross_income > 50000000)\n",
    "\n",
    "cols <- sapply(train2, is.logical)\n",
    "train2[, cols] <- lapply(train2[, cols], as.double)\n",
    "\n",
    "# reference for code:\n",
    "# https://stackoverflow.com/questions/30943167/replace-logical-values-true-false-with-numeric-1-0"
   ]
  },
  {
   "cell_type": "code",
   "execution_count": 35,
   "id": "following-walnut",
   "metadata": {},
   "outputs": [],
   "source": [
    "logistic_model <- function(a, data) {\n",
    "    (1) / (1 + exp(-(a[1] + data$x1 * a[2] + data$x2 * a[3] + data$x3 * a[4])))\n",
    "}"
   ]
  },
  {
   "cell_type": "code",
   "execution_count": 36,
   "id": "dutch-curve",
   "metadata": {},
   "outputs": [
    {
     "data": {
      "text/html": [
       "<dl>\n",
       "\t<dt>$par</dt>\n",
       "\t\t<dd><style>\n",
       ".list-inline {list-style: none; margin:0; padding: 0}\n",
       ".list-inline>li {display: inline-block}\n",
       ".list-inline>li:not(:last-child)::after {content: \"\\00b7\"; padding: 0 .5ex}\n",
       "</style>\n",
       "<ol class=list-inline><li>0.00673704506438886</li><li>2.71562205751312e-08</li><li>-0.0297492026792413</li><li>0.0180373616704981</li></ol>\n",
       "</dd>\n",
       "\t<dt>$value</dt>\n",
       "\t\t<dd>0.549018080101782</dd>\n",
       "\t<dt>$counts</dt>\n",
       "\t\t<dd><style>\n",
       ".dl-inline {width: auto; margin:0; padding: 0}\n",
       ".dl-inline>dt, .dl-inline>dd {float: none; width: auto; display: inline-block}\n",
       ".dl-inline>dt::after {content: \":\\0020\"; padding-right: .5ex}\n",
       ".dl-inline>dt:not(:first-of-type) {padding-left: .5ex}\n",
       "</style><dl class=dl-inline><dt>function</dt><dd>341</dd><dt>gradient</dt><dd>&lt;NA&gt;</dd></dl>\n",
       "</dd>\n",
       "\t<dt>$convergence</dt>\n",
       "\t\t<dd>0</dd>\n",
       "\t<dt>$message</dt>\n",
       "\t\t<dd>NULL</dd>\n",
       "</dl>\n"
      ],
      "text/latex": [
       "\\begin{description}\n",
       "\\item[\\$par] \\begin{enumerate*}\n",
       "\\item 0.00673704506438886\n",
       "\\item 2.71562205751312e-08\n",
       "\\item -0.0297492026792413\n",
       "\\item 0.0180373616704981\n",
       "\\end{enumerate*}\n",
       "\n",
       "\\item[\\$value] 0.549018080101782\n",
       "\\item[\\$counts] \\begin{description*}\n",
       "\\item[function] 341\n",
       "\\item[gradient] <NA>\n",
       "\\end{description*}\n",
       "\n",
       "\\item[\\$convergence] 0\n",
       "\\item[\\$message] NULL\n",
       "\\end{description}\n"
      ],
      "text/markdown": [
       "$par\n",
       ":   1. 0.00673704506438886\n",
       "2. 2.71562205751312e-08\n",
       "3. -0.0297492026792413\n",
       "4. 0.0180373616704981\n",
       "\n",
       "\n",
       "\n",
       "$value\n",
       ":   0.549018080101782\n",
       "$counts\n",
       ":   function\n",
       ":   341gradient\n",
       ":   &lt;NA&gt;\n",
       "\n",
       "\n",
       "$convergence\n",
       ":   0\n",
       "$message\n",
       ":   NULL\n",
       "\n",
       "\n"
      ],
      "text/plain": [
       "$par\n",
       "[1]  6.737045e-03  2.715622e-08 -2.974920e-02  1.803736e-02\n",
       "\n",
       "$value\n",
       "[1] 0.5490181\n",
       "\n",
       "$counts\n",
       "function gradient \n",
       "     341       NA \n",
       "\n",
       "$convergence\n",
       "[1] 0\n",
       "\n",
       "$message\n",
       "NULL\n"
      ]
     },
     "metadata": {},
     "output_type": "display_data"
    }
   ],
   "source": [
    "BCE <- function(a, data) {\n",
    "    preds <- logistic_model(a, data) #finds p(xi)\n",
    "    truth <- data$y #finds yi, either 0 or 1\n",
    "    value <- truth * log(preds) + (1 - truth) * log(1 - preds)\n",
    "    mean(-value)\n",
    "}\n",
    "\n",
    "best_log <- optim(c(0, 0, 0, 0), BCE, data = mutate(train2, x1 = budget, x2 = metascore, x3 = avg_vote, y = usa_gross_income_above_50mil))\n",
    "best_log\n",
    "\n",
    "a_log <- best_log$par"
   ]
  },
  {
   "cell_type": "code",
   "execution_count": 37,
   "id": "legislative-scanning",
   "metadata": {},
   "outputs": [],
   "source": [
    "# need to observe accuracy of logistic model\n",
    "avg_accuracy_log <- function(a, data, threshold = 0.5) {\n",
    "    preds <- logistic_model(a, data)   # get predictions for our data\n",
    "    preds <-  preds > 0.5   # turn our probabilities into predictions, using our threshold\n",
    "        #this takes predicition, and turns into a boolean, true or false, anything > 0.5 is true, < 0.5 is false\n",
    "    \n",
    "    # remember that in a Boolean vector, T is 1 and F is 0!\n",
    "    truth <- data$y\n",
    "    wrong <- abs(preds - truth)\n",
    "    pct_wrong <- sum(wrong) / length(wrong)\n",
    "    1 - pct_wrong\n",
    "}"
   ]
  },
  {
   "cell_type": "code",
   "execution_count": 38,
   "id": "burning-musician",
   "metadata": {},
   "outputs": [
    {
     "data": {
      "text/html": [
       "0.751535191308455"
      ],
      "text/latex": [
       "0.751535191308455"
      ],
      "text/markdown": [
       "0.751535191308455"
      ],
      "text/plain": [
       "[1] 0.7515352"
      ]
     },
     "metadata": {},
     "output_type": "display_data"
    }
   ],
   "source": [
    "# avg_accuracy score of training set\n",
    "avg_accuracy_log(a_log, mutate(train2, x1 = budget, x2 = metascore, x3 = avg_vote, y = usa_gross_income_above_50mil))\n"
   ]
  },
  {
   "cell_type": "code",
   "execution_count": 39,
   "id": "intended-muscle",
   "metadata": {},
   "outputs": [],
   "source": [
    "# create a binary TRUE/FALSE column for validation set\n",
    "valid2 <- valid1 %>%\n",
    "    mutate(usa_gross_income_above_50mil = usa_gross_income > 50000000)\n",
    "\n",
    "cols <- sapply(valid2, is.logical)\n",
    "valid2[, cols] <- lapply(valid2[, cols], as.double)\n",
    "\n",
    "# new test set with binary TRUE/FALSE column\n",
    "test2 <- test1 %>%\n",
    "    mutate(usa_gross_income_above_50mil = usa_gross_income > 50000000)\n",
    "\n",
    "cols <- sapply(test2, is.logical)\n",
    "test2[, cols] <- lapply(test2[, cols], as.double)\n"
   ]
  },
  {
   "cell_type": "code",
   "execution_count": 40,
   "id": "unique-commander",
   "metadata": {},
   "outputs": [
    {
     "data": {
      "text/html": [
       "0.722379603399433"
      ],
      "text/latex": [
       "0.722379603399433"
      ],
      "text/markdown": [
       "0.722379603399433"
      ],
      "text/plain": [
       "[1] 0.7223796"
      ]
     },
     "metadata": {},
     "output_type": "display_data"
    },
    {
     "data": {
      "text/html": [
       "0.74468085106383"
      ],
      "text/latex": [
       "0.74468085106383"
      ],
      "text/markdown": [
       "0.74468085106383"
      ],
      "text/plain": [
       "[1] 0.7446809"
      ]
     },
     "metadata": {},
     "output_type": "display_data"
    }
   ],
   "source": [
    "# avg_accuracy score of validation set\n",
    "avg_accuracy_log(a_log, mutate(valid2, x1 = budget, x2 = metascore, x3 = avg_vote, y = usa_gross_income_above_50mil))\n",
    "\n",
    "# avg_accuracy score of test set\n",
    "avg_accuracy_log(a_log, mutate(test2, x1 = budget, x2 = metascore, x3 = avg_vote, y = usa_gross_income_above_50mil))"
   ]
  },
  {
   "cell_type": "code",
   "execution_count": 41,
   "id": "classified-culture",
   "metadata": {},
   "outputs": [],
   "source": [
    "# check accuracy of linear regression model\n",
    "avg_accuracy_lin <- function(a, data, threshold = 0.5) {\n",
    "    preds <- RMSE_mult(a, data)   # get predictions for our data\n",
    "    preds <-  preds > 0.5   # turn our probabilities into predictions, using our threshold\n",
    "        #this takes predicition, and turns into a boolean, true or false, anything > 0.5 is true, < 0.5 is false\n",
    "    \n",
    "    # remember that in a Boolean vector, T is 1 and F is 0!\n",
    "    truth <- data$y\n",
    "    wrong <- abs(preds - truth)\n",
    "    pct_wrong <- sum(wrong) / length(wrong)\n",
    "    1 - pct_wrong\n",
    "}"
   ]
  },
  {
   "cell_type": "code",
   "execution_count": 42,
   "id": "macro-sucking",
   "metadata": {},
   "outputs": [
    {
     "data": {
      "text/html": [
       "0.290033065658951"
      ],
      "text/latex": [
       "0.290033065658951"
      ],
      "text/markdown": [
       "0.290033065658951"
      ],
      "text/plain": [
       "[1] 0.2900331"
      ]
     },
     "metadata": {},
     "output_type": "display_data"
    }
   ],
   "source": [
    "# accuracy of linear regression model on training set\n",
    "# accuracy was much worse than binary classification, line overfitted\n",
    "avg_accuracy_lin(best_lin$par, mutate(train2, x1 = budget, x2 = metascore, x3 = avg_vote, y = usa_gross_income_above_50mil))"
   ]
  },
  {
   "cell_type": "code",
   "execution_count": 43,
   "id": "federal-province",
   "metadata": {},
   "outputs": [
    {
     "data": {
      "text/html": [
       "0.294617563739377"
      ],
      "text/latex": [
       "0.294617563739377"
      ],
      "text/markdown": [
       "0.294617563739377"
      ],
      "text/plain": [
       "[1] 0.2946176"
      ]
     },
     "metadata": {},
     "output_type": "display_data"
    }
   ],
   "source": [
    "# accuracy of linear regression model on validation set\n",
    "# accuracy was much worse than binary classification, line overfitted\n",
    "avg_accuracy_lin(best_lin$par, mutate(valid2, x1 = budget, x2 = metascore, x3 = avg_vote, y = usa_gross_income_above_50mil))"
   ]
  },
  {
   "cell_type": "code",
   "execution_count": 44,
   "id": "realistic-romantic",
   "metadata": {},
   "outputs": [
    {
     "data": {
      "text/html": [
       "0.324822695035461"
      ],
      "text/latex": [
       "0.324822695035461"
      ],
      "text/markdown": [
       "0.324822695035461"
      ],
      "text/plain": [
       "[1] 0.3248227"
      ]
     },
     "metadata": {},
     "output_type": "display_data"
    }
   ],
   "source": [
    "# accuracy of linear regression model on test set\n",
    "# accuracy was much worse than binary classification, line overfitted\n",
    "avg_accuracy_lin(best_lin$par, mutate(test2, x1 = budget, x2 = metascore, x3 = avg_vote, y = usa_gross_income_above_50mil))"
   ]
  },
  {
   "cell_type": "markdown",
   "id": "sublime-motivation",
   "metadata": {},
   "source": [
    "Budget, metascore, and avg vote together were favorable predictors of gross income produced in the U.S. Furthermore, the binary classification model was indeed more accurate, with accuracy rates hovering around 70% compared to around 30% accuracy for the linear regression model."
   ]
  }
 ],
 "metadata": {
  "kernelspec": {
   "display_name": "R",
   "language": "R",
   "name": "ir"
  },
  "language_info": {
   "codemirror_mode": "r",
   "file_extension": ".r",
   "mimetype": "text/x-r-source",
   "name": "R",
   "pygments_lexer": "r",
   "version": "4.0.3"
  }
 },
 "nbformat": 4,
 "nbformat_minor": 5
}
