{
 "cells": [
  {
   "cell_type": "markdown",
   "id": "offshore-emphasis",
   "metadata": {},
   "source": [
    "## Genre vs. Average Vote\n",
    "#### Hypothesis:\n",
    "Biographies and drama will have the highest avg vote score while adult and comedy will have the lowest average vote score."
   ]
  },
  {
   "cell_type": "code",
   "execution_count": 48,
   "id": "frozen-artist",
   "metadata": {},
   "outputs": [
    {
     "data": {
      "text/html": [
       "<table class=\"dataframe\">\n",
       "<caption>A tibble: 23 × 2</caption>\n",
       "<thead>\n",
       "\t<tr><th scope=col>genre1</th><th scope=col>mean_vote</th></tr>\n",
       "\t<tr><th scope=col>&lt;chr&gt;</th><th scope=col>&lt;dbl&gt;</th></tr>\n",
       "</thead>\n",
       "<tbody>\n",
       "\t<tr><td>Documentary</td><td>7.300000</td></tr>\n",
       "\t<tr><td>Biography  </td><td>6.638413</td></tr>\n",
       "\t<tr><td>Film-Noir  </td><td>6.603448</td></tr>\n",
       "\t<tr><td>Animation  </td><td>6.386575</td></tr>\n",
       "\t<tr><td>Music      </td><td>6.283117</td></tr>\n",
       "\t<tr><td>Drama      </td><td>6.268865</td></tr>\n",
       "\t<tr><td>Musical    </td><td>6.205247</td></tr>\n",
       "\t<tr><td>Crime      </td><td>6.103743</td></tr>\n",
       "\t<tr><td>War        </td><td>6.078505</td></tr>\n",
       "\t<tr><td>Romance    </td><td>5.954759</td></tr>\n",
       "\t<tr><td>History    </td><td>5.945000</td></tr>\n",
       "\t<tr><td>Comedy     </td><td>5.877100</td></tr>\n",
       "\t<tr><td>Adventure  </td><td>5.869881</td></tr>\n",
       "\t<tr><td>Western    </td><td>5.805673</td></tr>\n",
       "\t<tr><td>Mystery    </td><td>5.767454</td></tr>\n",
       "\t<tr><td>Family     </td><td>5.591693</td></tr>\n",
       "\t<tr><td>Action     </td><td>5.577409</td></tr>\n",
       "\t<tr><td>Sport      </td><td>5.475000</td></tr>\n",
       "\t<tr><td>Fantasy    </td><td>5.353586</td></tr>\n",
       "\t<tr><td>Thriller   </td><td>5.174182</td></tr>\n",
       "\t<tr><td>Horror     </td><td>4.607432</td></tr>\n",
       "\t<tr><td>Sci-Fi     </td><td>4.554436</td></tr>\n",
       "\t<tr><td>Adult      </td><td>4.550000</td></tr>\n",
       "</tbody>\n",
       "</table>\n"
      ],
      "text/latex": [
       "A tibble: 23 × 2\n",
       "\\begin{tabular}{ll}\n",
       " genre1 & mean\\_vote\\\\\n",
       " <chr> & <dbl>\\\\\n",
       "\\hline\n",
       "\t Documentary & 7.300000\\\\\n",
       "\t Biography   & 6.638413\\\\\n",
       "\t Film-Noir   & 6.603448\\\\\n",
       "\t Animation   & 6.386575\\\\\n",
       "\t Music       & 6.283117\\\\\n",
       "\t Drama       & 6.268865\\\\\n",
       "\t Musical     & 6.205247\\\\\n",
       "\t Crime       & 6.103743\\\\\n",
       "\t War         & 6.078505\\\\\n",
       "\t Romance     & 5.954759\\\\\n",
       "\t History     & 5.945000\\\\\n",
       "\t Comedy      & 5.877100\\\\\n",
       "\t Adventure   & 5.869881\\\\\n",
       "\t Western     & 5.805673\\\\\n",
       "\t Mystery     & 5.767454\\\\\n",
       "\t Family      & 5.591693\\\\\n",
       "\t Action      & 5.577409\\\\\n",
       "\t Sport       & 5.475000\\\\\n",
       "\t Fantasy     & 5.353586\\\\\n",
       "\t Thriller    & 5.174182\\\\\n",
       "\t Horror      & 4.607432\\\\\n",
       "\t Sci-Fi      & 4.554436\\\\\n",
       "\t Adult       & 4.550000\\\\\n",
       "\\end{tabular}\n"
      ],
      "text/markdown": [
       "\n",
       "A tibble: 23 × 2\n",
       "\n",
       "| genre1 &lt;chr&gt; | mean_vote &lt;dbl&gt; |\n",
       "|---|---|\n",
       "| Documentary | 7.300000 |\n",
       "| Biography   | 6.638413 |\n",
       "| Film-Noir   | 6.603448 |\n",
       "| Animation   | 6.386575 |\n",
       "| Music       | 6.283117 |\n",
       "| Drama       | 6.268865 |\n",
       "| Musical     | 6.205247 |\n",
       "| Crime       | 6.103743 |\n",
       "| War         | 6.078505 |\n",
       "| Romance     | 5.954759 |\n",
       "| History     | 5.945000 |\n",
       "| Comedy      | 5.877100 |\n",
       "| Adventure   | 5.869881 |\n",
       "| Western     | 5.805673 |\n",
       "| Mystery     | 5.767454 |\n",
       "| Family      | 5.591693 |\n",
       "| Action      | 5.577409 |\n",
       "| Sport       | 5.475000 |\n",
       "| Fantasy     | 5.353586 |\n",
       "| Thriller    | 5.174182 |\n",
       "| Horror      | 4.607432 |\n",
       "| Sci-Fi      | 4.554436 |\n",
       "| Adult       | 4.550000 |\n",
       "\n"
      ],
      "text/plain": [
       "   genre1      mean_vote\n",
       "1  Documentary 7.300000 \n",
       "2  Biography   6.638413 \n",
       "3  Film-Noir   6.603448 \n",
       "4  Animation   6.386575 \n",
       "5  Music       6.283117 \n",
       "6  Drama       6.268865 \n",
       "7  Musical     6.205247 \n",
       "8  Crime       6.103743 \n",
       "9  War         6.078505 \n",
       "10 Romance     5.954759 \n",
       "11 History     5.945000 \n",
       "12 Comedy      5.877100 \n",
       "13 Adventure   5.869881 \n",
       "14 Western     5.805673 \n",
       "15 Mystery     5.767454 \n",
       "16 Family      5.591693 \n",
       "17 Action      5.577409 \n",
       "18 Sport       5.475000 \n",
       "19 Fantasy     5.353586 \n",
       "20 Thriller    5.174182 \n",
       "21 Horror      4.607432 \n",
       "22 Sci-Fi      4.554436 \n",
       "23 Adult       4.550000 "
      ]
     },
     "metadata": {},
     "output_type": "display_data"
    }
   ],
   "source": [
    "genre_vote <- imdb_genre %>%\n",
    "    group_by(genre1) %>%\n",
    "    summarize(mean_vote = mean(avg_vote, na.rm = TRUE)) %>%\n",
    "    arrange(desc(mean_vote)) \n",
    "genre_vote"
   ]
  },
  {
   "cell_type": "markdown",
   "id": "educational-exclusive",
   "metadata": {},
   "source": [
    "We found that documentaries generally had the highest graded votes, which was honestly a little surprising. Adult films had the lowest vote, which kind of makes sense. Our hypothesis was correct for documentaries and adult but not for comedy."
   ]
  }
 ],
 "metadata": {
  "kernelspec": {
   "display_name": "R",
   "language": "R",
   "name": "ir"
  },
  "language_info": {
   "codemirror_mode": "r",
   "file_extension": ".r",
   "mimetype": "text/x-r-source",
   "name": "R",
   "pygments_lexer": "r",
   "version": "4.0.3"
  }
 },
 "nbformat": 4,
 "nbformat_minor": 5
}
